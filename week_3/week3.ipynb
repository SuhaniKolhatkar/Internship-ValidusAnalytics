{
 "cells": [
  {
   "cell_type": "markdown",
   "id": "9d90bc08",
   "metadata": {
    "slideshow": {
     "slide_type": "slide"
    }
   },
   "source": [
    "# <font color = 'red'>  Week#3 \n",
    "\n",
    "#### 12 th June to \n",
    "#### 17 th June \n",
    "\n",
    "\n",
    "\n",
    "\n",
    "\n",
    "<hr>\n",
    "<font color = 'grey'><font size = '2px'>slide no : 1"
   ]
  },
  {
   "cell_type": "markdown",
   "id": "5e188e40",
   "metadata": {
    "slideshow": {
     "slide_type": "slide"
    }
   },
   "source": [
    "# <font color = 'red'> Presentation Flow \n",
    "\n",
    "#### Java Script \n",
    "#### Python\n",
    "\n",
    "\n",
    "\n",
    "\n",
    "\n",
    "<hr>\n",
    "<font color = 'grey'><font size = '2px'>slide no : 2"
   ]
  },
  {
   "cell_type": "markdown",
   "id": "40a834cb",
   "metadata": {
    "slideshow": {
     "slide_type": "slide"
    }
   },
   "source": [
    "# <font color = 'blue'>Java Script </font>\n",
    "\n",
    "* While and For loop (Live Demonstration with Fibonacci sequence/series )\n",
    "* Document Object  Model (DOM live demo using console, html tree , how to target html elements  )\n",
    "* GoJs \n",
    "    \n",
    "\n",
    "\n",
    "\n",
    "\n",
    "\n",
    "<hr>\n",
    "<font color = 'grey'><font size = '2px'>slide no : 3\n"
   ]
  },
  {
   "cell_type": "markdown",
   "id": "8520fb43",
   "metadata": {
    "slideshow": {
     "slide_type": "subslide"
    }
   },
   "source": [
    "## <font color = 'green'> While and For loop </font>\n",
    "\n",
    "For Loop: A for loop is an iteration method that is best used when you know the number of iterations ahead of time. It’s always followed by the initialization, expression and increment statements.\n",
    "<hr>\n",
    "While Loop: A while loop is an iteration method that is best used when you don't know the number of iterations ahead of time. The contents of the loop are executed as long as the expression evaluates to true.\n",
    "\n",
    "\n",
    "\n",
    "\n",
    "\n",
    "<hr>\n",
    "<font color = 'grey'><font size = '2px'>slide no : 4"
   ]
  },
  {
   "cell_type": "markdown",
   "id": "a0bc6c1c",
   "metadata": {
    "slideshow": {
     "slide_type": "slide"
    }
   },
   "source": [
    "### For loop\n",
    "\n",
    "``for(let i = 0 ; i < 5 ; i++){``<br>\n",
    " ``   alert(\"Hello world\");``<br>\n",
    "``}``\n",
    "\n",
    "\n",
    "\n",
    "\n",
    "\n",
    "<hr>\n",
    "<font color = 'grey'><font size = '2px'>slide no : 5"
   ]
  },
  {
   "cell_type": "markdown",
   "id": "569d0e8a",
   "metadata": {
    "slideshow": {
     "slide_type": "slide"
    }
   },
   "source": [
    "### While Loop \n",
    "``var i = 0;``\n",
    "\n",
    "``while (i < 5) {``<br>\n",
    "`` alert(\"Hello World\");``<br>\n",
    "``   i++``<br>\n",
    "``}``\n",
    "\n",
    "\n",
    "\n",
    "\n",
    "\n",
    "<hr>\n",
    "<font color = 'grey'><font size = '2px'>slide no : 6\n"
   ]
  },
  {
   "cell_type": "markdown",
   "id": "4ad1be97",
   "metadata": {
    "slideshow": {
     "slide_type": "subslide"
    }
   },
   "source": [
    "## <font color = 'green'> DOM </font>\n",
    "\n",
    "* What is DOM elements ?\n",
    "* Adding J.S to website \n",
    "* DOM elements \n",
    "\n",
    "\n",
    "\n",
    "\n",
    "\n",
    "<hr>\n",
    "<font color = 'grey'><font size = '2px'>slide no : 7"
   ]
  },
  {
   "cell_type": "markdown",
   "id": "dad0ee8b",
   "metadata": {
    "slideshow": {
     "slide_type": "slide"
    }
   },
   "source": [
    "### DOM elements \n",
    "\n",
    ">DOM stands for Document Object Model. It is a programming interface that allows us to create, change, or remove elements from the document.\n",
    "\n",
    "\n",
    "\n",
    "\n",
    "\n",
    "<hr>\n",
    "<font color = 'grey'><font size = '2px'>slide no : 8"
   ]
  },
  {
   "cell_type": "markdown",
   "id": "0fd9ed19",
   "metadata": {
    "slideshow": {
     "slide_type": "slide"
    }
   },
   "source": [
    "### JS into website \n",
    "\n",
    "* Inline \n",
    "* Internal \n",
    "* External \n",
    "\n",
    "\n",
    "\n",
    "\n",
    "\n",
    "<hr>\n",
    "<font color = 'grey'><font size = '2px'>slide no : 9"
   ]
  },
  {
   "cell_type": "markdown",
   "id": "7b10df95",
   "metadata": {
    "slideshow": {
     "slide_type": "slide"
    }
   },
   "source": [
    "### DOM elements example \n",
    "\n",
    "##### Selection of the DOM elements\n",
    "- Manupulation of styles using JS\n",
    "- Manupulation of classes \n",
    "- Manupulation in Text \n",
    "- Manupulation HTML element attribute \n",
    "\n",
    "\n",
    "\n",
    "\n",
    "\n",
    "<hr>\n",
    "<font color = 'grey'><font size = '2px'>slide no : 10"
   ]
  },
  {
   "cell_type": "markdown",
   "id": "214fdab1",
   "metadata": {
    "slideshow": {
     "slide_type": "slide"
    }
   },
   "source": [
    "* Selection of the DOM elements\n",
    "\n",
    "``document.firstElementChild.lastElementChild.style.color = 'red'``<br>\n",
    "``document.querySelector(\".nameOfTheClass\").style.color = 'red'``<br>\n",
    "``document.getElementsByTagName(\"li\").style.color = 'red'``<br>\n",
    "``document.getElementsByClassName(\"nameOfTheClass\")``<br>\n",
    "``document.getElementsById(\"nameOfId\")``\n",
    "\n",
    "\n",
    "\n",
    "\n",
    "\n",
    "<hr>\n",
    "<font color = 'grey'><font size = '2px'>slide no : 11"
   ]
  },
  {
   "attachments": {},
   "cell_type": "markdown",
   "id": "5614e878",
   "metadata": {
    "slideshow": {
     "slide_type": "slide"
    }
   },
   "source": [
    "## <font color = 'green'> GoJs </font>\n",
    "\n",
    "website link : https://gojs.net/latest/index.html\n",
    "\n",
    "\n",
    "<hr>\n",
    " <font color = 'grey'><font size = '2px'>slide no : 12"
   ]
  },
  {
   "cell_type": "markdown",
   "id": "8d721da6",
   "metadata": {
    "slideshow": {
     "slide_type": "slide"
    }
   },
   "source": [
    "# <font color = 'blue'> Python </font>\n",
    "\n",
    "\n",
    "* Variables in Python \n",
    "* f-string \n",
    "* Date and Time  <br> https://docs.python.org/3/library/datetime.html  and <br>https://www.w3schools.com/python/python_datetime.asp\n",
    "* Comments \n",
    "* Python Constants \n",
    "* List and Indexing \n",
    "* For loop \n",
    "* Range \n",
    "* Dictionaries \n",
    "\n",
    "\n",
    "\n",
    "\n",
    "<hr>\n",
    " <font color = 'grey'><font size = '2px'>slide no : 13"
   ]
  },
  {
   "cell_type": "markdown",
   "id": "1247e14f",
   "metadata": {
    "slideshow": {
     "slide_type": "subslide"
    }
   },
   "source": []
  }
 ],
 "metadata": {
  "celltoolbar": "Slideshow",
  "kernelspec": {
   "display_name": "Python 3 (ipykernel)",
   "language": "python",
   "name": "python3"
  },
  "language_info": {
   "codemirror_mode": {
    "name": "ipython",
    "version": 3
   },
   "file_extension": ".py",
   "mimetype": "text/x-python",
   "name": "python",
   "nbconvert_exporter": "python",
   "pygments_lexer": "ipython3",
   "version": "3.10.9"
  }
 },
 "nbformat": 4,
 "nbformat_minor": 5
}
